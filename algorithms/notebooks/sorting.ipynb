{
 "cells": [
  {
   "cell_type": "code",
   "execution_count": 4,
   "metadata": {},
   "outputs": [],
   "source": [
    "import random\n",
    "import matplotlib.pyplot as plt\n",
    "random.seed(10)"
   ]
  },
  {
   "cell_type": "code",
   "execution_count": 5,
   "metadata": {},
   "outputs": [],
   "source": [
    "shuffled = [random.randint(0, 1000) for i in range(10)]\n",
    "target = shuffled.copy()\n",
    "ideal = sorted(shuffled)"
   ]
  },
  {
   "cell_type": "markdown",
   "metadata": {},
   "source": [
    "### Bubble Sort"
   ]
  },
  {
   "cell_type": "markdown",
   "metadata": {},
   "source": [
    "Poor $O(n^2)$ runtime for worst case."
   ]
  },
  {
   "cell_type": "code",
   "execution_count": 6,
   "metadata": {},
   "outputs": [],
   "source": [
    "def bubble_sort(arr):\n",
    "    is_swapped = True\n",
    "    while is_swapped:\n",
    "        is_swapped = False\n",
    "        for i in range(len(arr) - 1):\n",
    "            if arr[i] > arr[i + 1]:\n",
    "                arr[i], arr[i + 1] = arr[i + 1], arr[i]\n",
    "                is_swapped = True"
   ]
  },
  {
   "cell_type": "code",
   "execution_count": 7,
   "metadata": {},
   "outputs": [],
   "source": [
    "target = shuffled.copy()\n",
    "bubble_sort(target)\n",
    "assert ideal == target"
   ]
  },
  {
   "cell_type": "markdown",
   "metadata": {},
   "source": [
    "### Selection sort"
   ]
  },
  {
   "cell_type": "markdown",
   "metadata": {},
   "source": [
    "Poor $O(n^2)$ runtime for the worst case."
   ]
  },
  {
   "cell_type": "code",
   "execution_count": 8,
   "metadata": {},
   "outputs": [],
   "source": [
    "def selection_sort(arr):\n",
    "    for i in range(len(arr)):\n",
    "        least_val_idx = i\n",
    "        for j in range(i + 1, len(arr)):\n",
    "            if arr[j] < arr[least_val_idx]:\n",
    "                least_val_idx = j\n",
    "        arr[i], arr[least_val_idx] = arr[least_val_idx], arr[i]"
   ]
  },
  {
   "cell_type": "code",
   "execution_count": 9,
   "metadata": {},
   "outputs": [],
   "source": [
    "target = shuffled.copy()\n",
    "selection_sort(target)\n",
    "assert ideal == target"
   ]
  },
  {
   "cell_type": "markdown",
   "metadata": {},
   "source": [
    "### Heap Sort"
   ]
  },
  {
   "cell_type": "markdown",
   "metadata": {},
   "source": [
    "One of the main reasons Heap Sort is still used fairly often, even though it's often outperformed by a well-implemented Quick Sort, is its reliability.\n",
    "\n",
    "Heap Sort's main advantage here are the $O(n \\log n)$ upper bound as far as time complexity is concerned, and security concerns. Linux kernel developers give the following reasoning to using Heap Sort over Quick Sort.\n",
    "\n",
    "Furthermore, Quick Sort behaves poorly in predictable situations, and given enough knowledge of the internal implementation, it could create a security risk (mainly DDoS attacks) since the bad $O(n^2)$ behavior could easily be triggered.\n",
    "\n",
    "Another algorithm that Heap Sort is often compared to is Merge Sort, which has the same time complexity.\n",
    "\n",
    "Merge Sort has the advantage of being stable and intuitively parallelizable, while Heap Sort is neither.\n",
    "\n",
    "Another note is that Heap Sort is slower than Merge Sort in most cases, even though they have the same complexity, since Heap Sort has larger constant factors.\n",
    "\n",
    "Heap Sort can, however, be implemented much more easily in-place than Merge Sort can, so it's preferred when memory is a more important factor than speed."
   ]
  },
  {
   "cell_type": "code",
   "execution_count": 10,
   "metadata": {},
   "outputs": [],
   "source": [
    "from heapq import heappop, heappush\n",
    "\n",
    "def heap_sort(arr):\n",
    "    heap = []\n",
    "    for a in arr:\n",
    "        heappush(heap, a)\n",
    "    ordered = []\n",
    "    while heap:\n",
    "        ordered.append(heappop(heap))\n",
    "    return ordered"
   ]
  },
  {
   "cell_type": "code",
   "execution_count": 11,
   "metadata": {},
   "outputs": [],
   "source": [
    "target = shuffled.copy()\n",
    "assert ideal == heap_sort(target)"
   ]
  },
  {
   "cell_type": "markdown",
   "metadata": {},
   "source": [
    "### Quick Sort"
   ]
  },
  {
   "cell_type": "code",
   "execution_count": 12,
   "metadata": {},
   "outputs": [],
   "source": [
    "def quicksort(arr, low, high):\n",
    "    if low < high:\n",
    "        pi = partition(arr, low, high)\n",
    "        quicksort(arr, low, pi - 1)\n",
    "        quicksort(arr, pi + 1, high)"
   ]
  },
  {
   "cell_type": "code",
   "execution_count": 13,
   "metadata": {},
   "outputs": [],
   "source": [
    "def partition(arr, low, high):\n",
    "    i = low - 1\n",
    "    pivot = arr[high]\n",
    "    for j in range(low, high):\n",
    "        if arr[j] <= pivot:\n",
    "            i += 1\n",
    "            arr[i], arr[j] = arr[j], arr[i]\n",
    "    arr[i + 1], arr[high] = arr[high], arr[i + 1]\n",
    "    return i + 1"
   ]
  },
  {
   "cell_type": "code",
   "execution_count": 17,
   "metadata": {},
   "outputs": [],
   "source": [
    "target = shuffled.copy()\n",
    "quicksort(target, 0, len(target) - 1)\n",
    "assert ideal == target"
   ]
  }
 ],
 "metadata": {
  "@webio": {
   "lastCommId": null,
   "lastKernelId": null
  },
  "kernelspec": {
   "display_name": "Python 3",
   "language": "python",
   "name": "python3"
  },
  "language_info": {
   "codemirror_mode": {
    "name": "ipython",
    "version": 3
   },
   "file_extension": ".py",
   "mimetype": "text/x-python",
   "name": "python",
   "nbconvert_exporter": "python",
   "pygments_lexer": "ipython3",
   "version": "3.7.3"
  }
 },
 "nbformat": 4,
 "nbformat_minor": 2
}
